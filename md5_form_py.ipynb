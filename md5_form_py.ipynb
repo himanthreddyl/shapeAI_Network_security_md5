{
  "nbformat": 4,
  "nbformat_minor": 0,
  "metadata": {
    "colab": {
      "name": "md5_form.py",
      "provenance": [],
      "authorship_tag": "ABX9TyNtPXL+s866nOG+/pxCks5u",
      "include_colab_link": true
    },
    "kernelspec": {
      "name": "python3",
      "display_name": "Python 3"
    },
    "language_info": {
      "name": "python"
    }
  },
  "cells": [
    {
      "cell_type": "markdown",
      "metadata": {
        "id": "view-in-github",
        "colab_type": "text"
      },
      "source": [
        "<a href=\"https://colab.research.google.com/github/himanthreddyl/shapeAI_Network_security_md5/blob/main/md5_form_py.ipynb\" target=\"_parent\"><img src=\"https://colab.research.google.com/assets/colab-badge.svg\" alt=\"Open In Colab\"/></a>"
      ]
    },
    {
      "cell_type": "markdown",
      "metadata": {
        "id": "ELx9xLney1-h"
      },
      "source": [
        "(1)To represent HASH in hexa decimal form"
      ]
    },
    {
      "cell_type": "code",
      "metadata": {
        "colab": {
          "base_uri": "https://localhost:8080/"
        },
        "id": "3JQnJ3ikvB7w",
        "outputId": "201af7bd-41b9-495d-c5d5-3380dec60ebb"
      },
      "source": [
        "import hashlib \n",
        "mystring = input('Enter string to hash: ') \n",
        "hash_obj = hashlib.md5(mystring.encode()) \n",
        "print(hash_obj.hexdigest())"
      ],
      "execution_count": 4,
      "outputs": [
        {
          "output_type": "stream",
          "text": [
            "Enter string to hash: himanth\n",
            "e397845cd869672377289ea66d58bab0\n"
          ],
          "name": "stdout"
        }
      ]
    },
    {
      "cell_type": "markdown",
      "metadata": {
        "id": "56Xf6nUI0IvC"
      },
      "source": [
        "To represent HASH in bytes form\n"
      ]
    },
    {
      "cell_type": "code",
      "metadata": {
        "colab": {
          "base_uri": "https://localhost:8080/"
        },
        "id": "NsWFND5I0dJu",
        "outputId": "d47be4ca-ab51-4129-e83b-6ea19de270a9"
      },
      "source": [
        "import hashlib\n",
        "hash_obj = hashlib.md5(b'Hello, Python!')\n",
        "  #To generate, sequence of bytes\n",
        "print(hash_obj.digest())"
      ],
      "execution_count": 5,
      "outputs": [
        {
          "output_type": "stream",
          "text": [
            "b'\\xa0\\xafx\\x10\\xeb_\\xcb\\x84\\xc70\\xf8Q6\\x1d\\xe0j'\n"
          ],
          "name": "stdout"
        }
      ]
    },
    {
      "cell_type": "markdown",
      "metadata": {
        "id": "GZjHFVPL025L"
      },
      "source": [
        "Only md5 form"
      ]
    },
    {
      "cell_type": "code",
      "metadata": {
        "colab": {
          "base_uri": "https://localhost:8080/"
        },
        "id": "a0iJsiNY075w",
        "outputId": "1c8acccc-9e22-490d-8f75-1eaf7386a256"
      },
      "source": [
        "print(hash_obj)"
      ],
      "execution_count": 6,
      "outputs": [
        {
          "output_type": "stream",
          "text": [
            "<md5 HASH object @ 0x7f76aed877b0>\n"
          ],
          "name": "stdout"
        }
      ]
    },
    {
      "cell_type": "markdown",
      "metadata": {
        "id": "rv1m-u_Z1Hax"
      },
      "source": [
        "#(2)ALGORITHM 1: hash with SHA-2 (SHA-256 & SHA-512)"
      ]
    },
    {
      "cell_type": "code",
      "metadata": {
        "colab": {
          "base_uri": "https://localhost:8080/"
        },
        "id": "Kjm0QgBT1n0L",
        "outputId": "62371866-5c79-4113-9e61-d7fe26a562f2"
      },
      "source": [
        "import hashlib\n",
        "\n",
        "# encode it to bytes using UTF-8 encoding\n",
        "message = \"Some text to hash\".encode()\n",
        "print(\"SHA-256:\", hashlib.sha256(message).hexdigest())\n",
        "\n",
        "print(\"SHA-512:\", hashlib.sha512(message).hexdigest())"
      ],
      "execution_count": 10,
      "outputs": [
        {
          "output_type": "stream",
          "text": [
            "SHA-256: 7a86e0e93e6aa6cf49f19368ca7242e24640a988ac8e5508dfcede39fa53faa2\n",
            "SHA-512: 96fa772f72678c85bbd5d23b66d51d50f8f9824a0aba0ded624ab61fe8b602bf4e3611075fe13595d3e74c63c59f7d79241acc97888e9a7a5c791159c85c3ccd\n"
          ],
          "name": "stdout"
        }
      ]
    },
    {
      "cell_type": "markdown",
      "metadata": {
        "id": "U3M-W9VJ2lLM"
      },
      "source": [
        "#ALGORITHM 2: hash with SHA-3"
      ]
    },
    {
      "cell_type": "code",
      "metadata": {
        "colab": {
          "base_uri": "https://localhost:8080/"
        },
        "id": "EdrIwtR22riq",
        "outputId": "a97351fe-6856-470f-b363-6c081952bf8c"
      },
      "source": [
        "print(\"SHA-3-256:\", hashlib.sha3_256(message).hexdigest())\n",
        "\n",
        "print(\"SHA-3-512:\", hashlib.sha3_512(message).hexdigest())"
      ],
      "execution_count": 11,
      "outputs": [
        {
          "output_type": "stream",
          "text": [
            "SHA-3-256: d7007c1cd52f8168f22fa25ef011a5b3644bcb437efa46de34761d3340187609\n",
            "SHA-3-512: de6b4c8f7d4fd608987c123122bcc63081372d09b4bc14955bfc828335dec1246b5c6633c5b1c87d2ad2b777d713d7777819263e7ad675a3743bf2a35bc699d0\n"
          ],
          "name": "stdout"
        }
      ]
    },
    {
      "cell_type": "markdown",
      "metadata": {
        "id": "b0YJkgM123Y8"
      },
      "source": [
        "#ALGORITHM 3: hash with BLAKE2"
      ]
    },
    {
      "cell_type": "code",
      "metadata": {
        "colab": {
          "base_uri": "https://localhost:8080/"
        },
        "id": "RPw34Ht52-pr",
        "outputId": "53527428-cbf9-4b78-c96d-b4d38bc9b850"
      },
      "source": [
        "# 256-bit BLAKE2 (or BLAKE2s)\n",
        "print(\"BLAKE2c:\", hashlib.blake2s(message).hexdigest())\n",
        "# 512-bit BLAKE2 (or BLAKE2b)\n",
        "print(\"BLAKE2b:\", hashlib.blake2b(message).hexdigest())"
      ],
      "execution_count": 12,
      "outputs": [
        {
          "output_type": "stream",
          "text": [
            "BLAKE2c: 6889074426b5454d751547cd33ca4c64cd693f86ce69be5c951223f3af845786\n",
            "BLAKE2b: 13e2ca8f6a282f27b2022dde683490b1085b3e16a98ee77b44b25bc84a0366afe8d70a4aa47dd10e064f1f772573513d64d56e5ef646fb935c040b32f67e5ab2\n"
          ],
          "name": "stdout"
        }
      ]
    },
    {
      "cell_type": "markdown",
      "metadata": {
        "id": "bEzmyYzT3OV7"
      },
      "source": [
        "#(3)salting"
      ]
    },
    {
      "cell_type": "code",
      "metadata": {
        "id": "RfTgFXpL39_y"
      },
      "source": [
        "import uuid\n",
        "import hashlib\n",
        "\n",
        "def hashText(text):\n",
        "    \"\"\"\n",
        "        Basic hashing function for a text using random unique salt.  \n",
        "    \"\"\"\n",
        "    salt = uuid.uuid4().hex\n",
        "    return hashlib.sha256(salt.encode() + text.encode()).hexdigest() + ':' + salt\n",
        "    \n",
        "def matchHashedText(hashedText, providedText):\n",
        "    \"\"\"\n",
        "        Check for the text in the hashed text\n",
        "    \"\"\"\n",
        "    _hashedText, salt = hashedText.split(':')\n",
        "    return _hashedText == hashlib.sha256(salt.encode() + providedText.encode()).hexdigest()"
      ],
      "execution_count": 17,
      "outputs": []
    },
    {
      "cell_type": "code",
      "metadata": {
        "colab": {
          "base_uri": "https://localhost:8080/"
        },
        "id": "gaU97hXO6NXS",
        "outputId": "ecd36423-3fa6-4abc-9433-eeaba23e5313"
      },
      "source": [
        "hashText(\"text\")\n",
        "matchHashedText(hashText(\"text\"), \"text\")\n"
      ],
      "execution_count": 20,
      "outputs": [
        {
          "output_type": "execute_result",
          "data": {
            "text/plain": [
              "True"
            ]
          },
          "metadata": {
            "tags": []
          },
          "execution_count": 20
        }
      ]
    },
    {
      "cell_type": "markdown",
      "metadata": {
        "id": "IxQpMKt06zv1"
      },
      "source": [
        "#(3)iterations"
      ]
    },
    {
      "cell_type": "code",
      "metadata": {
        "colab": {
          "base_uri": "https://localhost:8080/",
          "height": 35
        },
        "id": "DJX3vaN963TJ",
        "outputId": "7635c3ac-a19a-4ccd-9f91-d2e8c67a17f9"
      },
      "source": [
        "from hashlib import blake2b, blake2s\n",
        "blake2b(digest_size=10).hexdigest()"
      ],
      "execution_count": 25,
      "outputs": [
        {
          "output_type": "execute_result",
          "data": {
            "application/vnd.google.colaboratory.intrinsic+json": {
              "type": "string"
            },
            "text/plain": [
              "'6fa1d8fcfd719046d762'"
            ]
          },
          "metadata": {
            "tags": []
          },
          "execution_count": 25
        }
      ]
    },
    {
      "cell_type": "code",
      "metadata": {
        "colab": {
          "base_uri": "https://localhost:8080/",
          "height": 35
        },
        "id": "YbrXT-oe9yLU",
        "outputId": "2e7dc38f-b042-4908-bafc-8e9ddeca02f3"
      },
      "source": [
        "blake2b(digest_size=11).hexdigest()"
      ],
      "execution_count": 26,
      "outputs": [
        {
          "output_type": "execute_result",
          "data": {
            "application/vnd.google.colaboratory.intrinsic+json": {
              "type": "string"
            },
            "text/plain": [
              "'eb6ec15daf9546254f0809'"
            ]
          },
          "metadata": {
            "tags": []
          },
          "execution_count": 26
        }
      ]
    },
    {
      "cell_type": "code",
      "metadata": {
        "colab": {
          "base_uri": "https://localhost:8080/",
          "height": 35
        },
        "id": "AKCDCegD94Px",
        "outputId": "0a0b6028-1bd4-4d0f-8663-166fddfbac7e"
      },
      "source": [
        "blake2s(digest_size=10).hexdigest()"
      ],
      "execution_count": 27,
      "outputs": [
        {
          "output_type": "execute_result",
          "data": {
            "application/vnd.google.colaboratory.intrinsic+json": {
              "type": "string"
            },
            "text/plain": [
              "'1bf21a98c78a1c376ae9'"
            ]
          },
          "metadata": {
            "tags": []
          },
          "execution_count": 27
        }
      ]
    },
    {
      "cell_type": "code",
      "metadata": {
        "colab": {
          "base_uri": "https://localhost:8080/",
          "height": 35
        },
        "id": "fmgvF71u994A",
        "outputId": "46d27e8f-f794-4879-e679-804e6a1ca3ba"
      },
      "source": [
        "blake2s(digest_size=11).hexdigest()"
      ],
      "execution_count": 28,
      "outputs": [
        {
          "output_type": "execute_result",
          "data": {
            "application/vnd.google.colaboratory.intrinsic+json": {
              "type": "string"
            },
            "text/plain": [
              "'567004bf96e4a25773ebf4'"
            ]
          },
          "metadata": {
            "tags": []
          },
          "execution_count": 28
        }
      ]
    }
  ]
}